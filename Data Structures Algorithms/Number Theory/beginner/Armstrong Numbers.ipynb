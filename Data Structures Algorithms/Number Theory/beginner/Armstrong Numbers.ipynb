{
 "cells": [
  {
   "cell_type": "raw",
   "metadata": {
    "vscode": {
     "languageId": "raw"
    }
   },
   "source": [
    "# Armstrong Numbers\n",
    "\n",
    "An Armstrong number (also known as a narcissistic number, pluperfect digital invariant (PPDI), or pluperfect number) is a number that is equal to the sum of its own digits each raised to the power of the number of digits.\n",
    "\n",
    "## Example:\n",
    "\n",
    "**153** is an Armstrong number because:\n",
    "\n",
    "1^3 + 5^3 + 3^3 = 1 + 125 + 27 = 153\n",
    "\n",
    "\n",
    "**9474** is an Armstrong number:\n",
    "\n",
    "9^4 + 4^4 + 7^4 + 4^4 = 6561 + 256 + 2401 + 256 = 9474\n",
    "\n",
    "\n",
    "Some Known Armstrong Numbers (up to 8 digits):\n",
    "1, 2, 3, 4, 5, 6, 7, 8, 9,\n",
    "153, 370, 371, 407,\n",
    "1634, 8208, 9474,\n",
    "54748, 92727, 93084,\n",
    "548834\n"
   ]
  },
  {
   "cell_type": "code",
   "execution_count": 1,
   "metadata": {},
   "outputs": [
    {
     "name": "stdout",
     "output_type": "stream",
     "text": [
      "True\n",
      "True\n"
     ]
    }
   ],
   "source": [
    "def is_armstrong(num: int) -> bool:\n",
    "    power = len(str(num))\n",
    "    total = sum(int(digit) ** power for digit in str(num))\n",
    "    return num == total\n",
    "\n",
    "# Example usage\n",
    "print(is_armstrong(153))   # True\n",
    "print(is_armstrong(9474))  # True\n",
    "print(is_armstrong(123))   # False\n"
   ]
  },
  {
   "cell_type": "code",
   "execution_count": 5,
   "metadata": {},
   "outputs": [
    {
     "name": "stdout",
     "output_type": "stream",
     "text": [
      "[0, 1, 8, 27, 64, 125, 216, 343, 512, 729]\n",
      "True\n",
      "[0, 1, 16, 81, 256, 625, 1296, 2401, 4096, 6561]\n",
      "True\n",
      "[0, 1, 8, 27, 64, 125, 216, 343, 512, 729]\n",
      "False\n"
     ]
    }
   ],
   "source": [
    "# Optimized version - precompute the power\n",
    "\n",
    "def is_armstrong(num: int) -> bool:\n",
    "    digits = list(map(int, str(num)))\n",
    "    power = len(digits)\n",
    "\n",
    "    # Precompute powers of 0–9\n",
    "    powers = [d ** power for d in range(10)]\n",
    "\n",
    "    print(powers)\n",
    "\n",
    "    total = sum(powers[d] for d in digits)\n",
    "    return total == num\n",
    "\n",
    "# Example usage\n",
    "print(is_armstrong(153))   # True\n",
    "print(is_armstrong(9474))  # True\n",
    "print(is_armstrong(123))   # False\n"
   ]
  },
  {
   "cell_type": "code",
   "execution_count": null,
   "metadata": {},
   "outputs": [],
   "source": []
  }
 ],
 "metadata": {
  "kernelspec": {
   "display_name": ".venv-code_ia",
   "language": "python",
   "name": "python3"
  },
  "language_info": {
   "codemirror_mode": {
    "name": "ipython",
    "version": 3
   },
   "file_extension": ".py",
   "mimetype": "text/x-python",
   "name": "python",
   "nbconvert_exporter": "python",
   "pygments_lexer": "ipython3",
   "version": "3.12.1"
  }
 },
 "nbformat": 4,
 "nbformat_minor": 2
}
