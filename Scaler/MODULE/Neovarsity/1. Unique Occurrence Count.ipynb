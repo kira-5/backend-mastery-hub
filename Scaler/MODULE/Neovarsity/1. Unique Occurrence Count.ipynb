{
 "cells": [
  {
   "cell_type": "code",
   "execution_count": null,
   "metadata": {
    "vscode": {
     "languageId": "latex"
    }
   },
   "outputs": [],
   "source": [
    "# Unique Occurrence Count\n",
    "\n",
    "## Problem Description\n",
    "\n",
    "    Given an integer array A of size N, return the count of elements which occur exactly once in the array.\n",
    "\n",
    "## Input Format\n",
    "\n",
    "    First and only argument is an array A.\n",
    "\n",
    "## Output Format\n",
    "\n",
    "    Return an integer — the count of elements that appear exactly once in the array.\n",
    "\n",
    "## Examples\n",
    "\n",
    "### Example 1:\n",
    "\n",
    "    Input: A = [1, 2, 3, 1, 2, 4, 5]\n",
    "    Output: 3\n",
    "\n",
    "    Explanation:\n",
    "    • Elements occurring only once in the array are: 3, 4, 5\n",
    "    • Total = 3\n",
    "\n",
    "### Example 2:\n",
    "\n",
    "    Input: A = [1, 2, 1, 2]\n",
    "    Output: 0\n",
    "\n",
    "    Explanation:\n",
    "    • All elements appear more than once → Count = 0\n",
    "\n",
    "## Edge Case:\n",
    "\n",
    "    If all elements are unique: return N.\n",
    "    If all elements are duplicates: return 0.\n",
    "\n",
    "## Expected Solution\n",
    "\n",
    "    Time Complexity: O(N)\n",
    "    Space Complexity: O(N)"
   ]
  },
  {
   "cell_type": "markdown",
   "metadata": {
    "vscode": {
     "languageId": "latex"
    }
   },
   "source": [
    "| Approach | Time Complexity | Space Complexity | Description |\n",
    "|----------|----------------|-----------------|-------------|\n",
    "| Frequency Dictionary (Hash Map) | O(N) | O(N) | Uses a dictionary to count frequencies of each element, then counts elements with frequency 1. |\n",
    "| Sorting and Adjacent Comparison | O(N log N) | O(1) | Sorts the array and checks adjacent elements to find unique occurrences. No extra space used (ignoring input storage). |\n",
    "| Brute Force (Nested Loop) | O(N²) | O(1) | For each element, checks all other elements to see if it appears again. Not efficient for large arrays. |"
   ]
  },
  {
   "cell_type": "code",
   "execution_count": null,
   "metadata": {},
   "outputs": [],
   "source": [
    "def unique_occurrence_count(lst):\n",
    "    count = 0\n",
    "    for i in lst:\n",
    "        if \n",
    "    return count\n",
    "\n",
    "A = [1, 2, 3, 1, 2, 4, 5]\n",
    "output = unique_occurrence_count(A)\n",
    "print(output)"
   ]
  },
  {
   "cell_type": "code",
   "execution_count": 1,
   "metadata": {},
   "outputs": [
    {
     "name": "stdout",
     "output_type": "stream",
     "text": [
      "3\n"
     ]
    }
   ],
   "source": [
    "# Using Hash Map\n",
    "def unique_occurrence_count(lst):\n",
    "    count = 0\n",
    "    hash_map = {}\n",
    "    for i in lst:\n",
    "        if i in hash_map:\n",
    "            hash_map[i] += 1\n",
    "        else:\n",
    "            hash_map[i] = 1\n",
    "    for i in hash_map:\n",
    "        if hash_map[i] == 1:\n",
    "            count += 1\n",
    "    return count\n",
    "\n",
    "\n",
    "A = [1, 2, 3, 1, 2, 4, 5]\n",
    "output = unique_occurrence_count(A)\n",
    "print(output)"
   ]
  },
  {
   "cell_type": "code",
   "execution_count": 2,
   "metadata": {},
   "outputs": [
    {
     "name": "stdout",
     "output_type": "stream",
     "text": [
      "3\n"
     ]
    }
   ],
   "source": [
    "# Using Sorting and Adjacent Comparison\n",
    "def unique_occurrence_count(lst):\n",
    "    count = 0\n",
    "    lst.sort()\n",
    "    for i in range(len(lst)):\n",
    "        if i == 0:\n",
    "            if lst[i] != lst[i+1]:\n",
    "                count += 1\n",
    "        elif i == len(lst)-1:\n",
    "            if lst[i] != lst[i-1]:\n",
    "                count += 1\n",
    "        else:\n",
    "            if lst[i] != lst[i-1] and lst[i] != lst[i+1]:\n",
    "                count += 1\n",
    "    return count\n",
    "\n",
    "\n",
    "A = [1, 2, 3, 1, 2, 4, 5]\n",
    "output = unique_occurrence_count(A)\n",
    "print(output)"
   ]
  }
 ],
 "metadata": {
  "kernelspec": {
   "display_name": ".venv-backend",
   "language": "python",
   "name": "python3"
  },
  "language_info": {
   "codemirror_mode": {
    "name": "ipython",
    "version": 3
   },
   "file_extension": ".py",
   "mimetype": "text/x-python",
   "name": "python",
   "nbconvert_exporter": "python",
   "pygments_lexer": "ipython3",
   "version": "3.12.1"
  }
 },
 "nbformat": 4,
 "nbformat_minor": 2
}
