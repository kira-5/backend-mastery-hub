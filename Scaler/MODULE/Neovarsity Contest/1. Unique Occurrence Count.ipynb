{
 "cells": [
  {
   "cell_type": "code",
   "execution_count": null,
   "metadata": {
    "vscode": {
     "languageId": "latex"
    }
   },
   "outputs": [],
   "source": [
    "# Unique Occurrence Count\n",
    "\n",
    "## Problem Description\n",
    "\n",
    "    Given an integer array A of size N, return the count of elements which occur exactly once in the array.\n",
    "\n",
    "## Input Format\n",
    "\n",
    "    First and only argument is an array A.\n",
    "\n",
    "## Output Format\n",
    "\n",
    "    Return an integer — the count of elements that appear exactly once in the array.\n",
    "\n",
    "## Examples\n",
    "\n",
    "### Example 1:\n",
    "\n",
    "    Input: A = [1, 2, 3, 1, 2, 4, 5]\n",
    "    Output: 3\n",
    "\n",
    "    Explanation:\n",
    "    • Elements occurring only once in the array are: 3, 4, 5\n",
    "    • Total = 3\n",
    "\n",
    "### Example 2:\n",
    "\n",
    "    Input: A = [1, 2, 1, 2]\n",
    "    Output: 0\n",
    "\n",
    "    Explanation:\n",
    "    • All elements appear more than once → Count = 0\n",
    "\n",
    "## Edge Case:\n",
    "\n",
    "    If all elements are unique: return N.\n",
    "    If all elements are duplicates: return 0.\n",
    "\n",
    "## Expected Solution\n",
    "\n",
    "    Time Complexity: O(N)\n",
    "    Space Complexity: O(N)"
   ]
  },
  {
   "cell_type": "markdown",
   "metadata": {
    "vscode": {
     "languageId": "latex"
    }
   },
   "source": [
    "| Approach | Time Complexity | Space Complexity | Description |\n",
    "|----------|----------------|-----------------|-------------|\n",
    "| Frequency Dictionary (Hash Map) | O(N) | O(N) | Uses a dictionary to count frequencies of each element, then counts elements with frequency 1. |\n",
    "| Sorting and Adjacent Comparison | O(N log N) | O(1) | Sorts the array and checks adjacent elements to find unique occurrences. No extra space used (ignoring input storage). |\n",
    "| Brute Force (Nested Loop) | O(N²) | O(1) | For each element, checks all other elements to see if it appears again. Not efficient for large arrays. |"
   ]
  },
  {
   "cell_type": "code",
   "execution_count": null,
   "metadata": {},
   "outputs": [],
   "source": [
    "def main():\n",
    "    # YOUR CODE GOES HERE\n",
    "    # Please take input and print output to standard input/output (stdin/stdout)\n",
    "    # E.g. 'input()/raw_input()' for input & 'print' for output\n",
    "    \n",
    "    zone = int(input())\n",
    "    \n",
    "    zones_height_mapping = {\n",
    "        (1, 5): 30,\n",
    "        (6, 10): 25,\n",
    "        (11, 15): 20,\n",
    "        (16, 20): 10\n",
    "    }\n",
    "    \n",
    "    # Check if zone falls in any valid range\n",
    "    for (start, end), height in zones_height_mapping.items():\n",
    "        if start <= zone <= end:\n",
    "            print(f\"Maximum height possible for building is {height} meters\")\n",
    "            break\n",
    "    else:\n",
    "        print(\"Here construction is prohibited\")\n",
    "\n",
    "if __name__ == '__main__':\n",
    "    main()"
   ]
  }
 ],
 "metadata": {
  "kernelspec": {
   "display_name": ".venv-backend",
   "language": "python",
   "name": "python3"
  },
  "language_info": {
   "codemirror_mode": {
    "name": "ipython",
    "version": 3
   },
   "file_extension": ".py",
   "mimetype": "text/x-python",
   "name": "python",
   "nbconvert_exporter": "python",
   "pygments_lexer": "ipython3",
   "version": "3.12.1"
  }
 },
 "nbformat": 4,
 "nbformat_minor": 2
}
