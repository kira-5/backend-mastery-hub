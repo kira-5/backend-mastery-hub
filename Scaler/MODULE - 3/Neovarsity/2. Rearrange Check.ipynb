{
 "cells": [
  {
   "cell_type": "code",
   "execution_count": null,
   "metadata": {
    "vscode": {
     "languageId": "latex"
    }
   },
   "outputs": [],
   "source": [
    "# Rearrange Check\n",
    "\n",
    "## Problem Description\n",
    "\n",
    "    Given two strings A and B consisting of lowercase characters, check if it is possible to rearrange characters in A to form string B.\n",
    "\n",
    "\n",
    "## Input Format\n",
    "\n",
    "    First argument is string A\n",
    "    Second argument is string B\n",
    "    \n",
    "## Output Format\n",
    "\n",
    "    Return string \"True\" if it is possible\n",
    "    Otherwise, return string \"False\"\n",
    "\n",
    "## Examples\n",
    "\n",
    "### Example 1:\n",
    "\n",
    "    Input: A = \"hello\", B = \"llohe\"\n",
    "    Output: \"True\"\n",
    "\n",
    "    Explanation:\n",
    "    • We can rearrange string A to become B, so we return \"True\".\n",
    "\n",
    "### Example 2:\n",
    "\n",
    "    Input: A = \"abc\", B = \"bcd\"\n",
    "    Output: \"False\"\n",
    "\n",
    "    Explanation:\n",
    "    • It is impossible to rearrange string A to become B, so we return \"False\".\n",
    "\n",
    "## Edge Case:\n",
    "\n",
    "\n",
    "## Expected Solution\n",
    "\n",
    "    Time Complexity: O(N)\n",
    "    Space Complexity: O(1)"
   ]
  },
  {
   "cell_type": "code",
   "execution_count": null,
   "metadata": {
    "vscode": {
     "languageId": "latex"
    }
   },
   "outputs": [],
   "source": [
    "Approach\tTime Complexity (TC)\tSpace Complexity (SC)\tDescription\n",
    "Frequency Dictionary (Hash Map)\tO(N)\tO(1) or O(N)\tUses dictionaries to count character frequencies in both strings and compares them. Since the number of distinct characters is limited (26 lowercase letters), SC is O(1).\n",
    "Sorting and Comparison\tO(N log N)\tO(1) or O(N)\tSorts both strings and checks if they are identical. SC depends on whether sorting is in-place.\n",
    "Array-based Frequency Count\tO(N)\tO(1)\tUses fixed-size arrays (size 26) to count character frequencies, leveraging ASCII values. Very efficient for lowercase letters.\n",
    "Brute Force (Check All Permutations)\tO(N!)\tO(N)\tGenerates all permutations of string A and checks if any matches B. Highly inefficient for large N.\n"
   ]
  },
  {
   "cell_type": "code",
   "execution_count": null,
   "metadata": {
    "vscode": {
     "languageId": "latex"
    }
   },
   "outputs": [],
   "source": [
    "Explanation of Each Approach:\n",
    "Frequency Dictionary (Hash Map):\n",
    "\n",
    "TC: O(N) - We traverse each string once to populate frequency dictionaries and then compare them.\n",
    "\n",
    "SC: O(1) - Since there are only 26 lowercase letters, the space used by the dictionaries is constant.\n",
    "\n",
    "Sorting and Comparison:\n",
    "\n",
    "TC: O(N log N) - Sorting both strings dominates the time complexity.\n",
    "\n",
    "SC: O(1) or O(N) - If sorting is done in-place, SC is O(1); otherwise, it's O(N) due to additional space for sorted strings.\n",
    "\n",
    "Array-based Frequency Count:\n",
    "\n",
    "TC: O(N) - We traverse each string once to populate frequency arrays.\n",
    "\n",
    "SC: O(1) - Uses two fixed-size arrays of size 26, making the space complexity constant.\n",
    "\n",
    "Brute Force (Check All Permutations):\n",
    "\n",
    "TC: O(N!) - Generating all permutations of string A is factorial in time complexity.\n",
    "\n",
    "SC: O(N) - Requires space to store permutations, which grows with the size of the string.\n",
    "\n",
    "\n",
    "\n",
    "\n",
    "\n",
    "\n",
    "Key Insight:\n",
    "The O(1) space complexity holds only because the problem restricts characters to lowercase letters (a-z).\n",
    "\n",
    "If the input could contain any Unicode character, the space complexity would become O(N) (for hash maps) or O(k) (where k is the size of the character set, e.g., 128 for ASCII).\n",
    "\n",
    "Summary Table:\n",
    "Approach\tTime Complexity (TC)\tSpace Complexity (SC)\tNotes\n",
    "Hash Map (Dictionary)\tO(N)\tO(1) (due to 26 keys)\tWorks well, but slightly slower than arrays due to hash operations.\n",
    "Array-based Count\tO(N)\tO(1) (fixed 26 slots)\tFaster in practice (direct index access), best for lowercase constraints.\n",
    "Conclusion:\n",
    "Both approaches are O(1) in space for this problem.\n",
    "\n",
    "Array-based is slightly more efficient (due to direct indexing vs. hashing).\n",
    "\n",
    "If the problem allowed any character, the SC would no longer be O(1)."
   ]
  },
  {
   "cell_type": "code",
   "execution_count": null,
   "metadata": {},
   "outputs": [],
   "source": [
    "def rearrange_check(A, B):\n",
    "    if len(A) != len(B):\n",
    "        return \"False\"\n",
    "    for i in A:\n",
    "        if A.count(i) != B.count(i):\n",
    "            return \"False\"\n",
    "    return \"True\"\n",
    "\n",
    "A = \"hello\"\n",
    "B = \"llohe\"\n",
    "output = rearrange_check(A, B)\n",
    "print(output)"
   ]
  },
  {
   "cell_type": "code",
   "execution_count": 2,
   "metadata": {},
   "outputs": [
    {
     "name": "stdout",
     "output_type": "stream",
     "text": [
      "True\n"
     ]
    }
   ],
   "source": [
    "# Using Hash Map\n",
    "def rearrange_check(A, B):\n",
    "    if len(A) != len(B):\n",
    "        return \"False\"\n",
    "    \n",
    "    freq_A = {}\n",
    "    freq_B = {}\n",
    "\n",
    "    for char in A:\n",
    "        freq_A[char] = freq_A.get(char, 0) + 1\n",
    "    for char in B:\n",
    "        freq_B[char] = freq_B.get(char, 0) + 1\n",
    "\n",
    "    if freq_A == freq_B:\n",
    "        return \"True\"\n",
    "    return \"False\"\n",
    "\n",
    "A = \"hello\"\n",
    "B = \"llohe\"\n",
    "output = rearrange_check(A, B)\n",
    "print(output)"
   ]
  },
  {
   "cell_type": "code",
   "execution_count": null,
   "metadata": {},
   "outputs": [],
   "source": [
    "# Using Array-based Frequency Count\n",
    "def rearrange_check(A, B):\n",
    "    if len(A) != len(B):\n",
    "        return \"False\"\n",
    "    \n",
    "    freq_A = [0] * 26\n",
    "    freq_B = [0] * 26\n",
    "    \n",
    "    for i in A:\n",
    "        freq_A[ord(i) - ord('a')] += 1\n",
    "    for i in B:\n",
    "        freq_B[ord(i) - ord('a')] += 1\n",
    "\n",
    "    if freq_A == freq_B:\n",
    "        return \"True\"\n",
    "    return \"False\"\n",
    "\n",
    "A = \"hello\"\n",
    "B = \"llohe\"\n",
    "output = rearrange_check(A, B)\n",
    "print(output)\n",
    "# Using Brute Force\n"
   ]
  }
 ],
 "metadata": {
  "kernelspec": {
   "display_name": ".venv-backend",
   "language": "python",
   "name": "python3"
  },
  "language_info": {
   "codemirror_mode": {
    "name": "ipython",
    "version": 3
   },
   "file_extension": ".py",
   "mimetype": "text/x-python",
   "name": "python",
   "nbconvert_exporter": "python",
   "pygments_lexer": "ipython3",
   "version": "3.12.1"
  }
 },
 "nbformat": 4,
 "nbformat_minor": 2
}
