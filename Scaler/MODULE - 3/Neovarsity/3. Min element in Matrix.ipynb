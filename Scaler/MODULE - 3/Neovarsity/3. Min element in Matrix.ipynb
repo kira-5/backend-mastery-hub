{
 "cells": [
  {
   "cell_type": "code",
   "execution_count": null,
   "metadata": {
    "vscode": {
     "languageId": "latex"
    }
   },
   "outputs": [],
   "source": [
    "# Min element in Matrix\n",
    "\n",
    "## Problem Description\n",
    "\n",
    "    Given a 2D Array A[][], return the minimum element from this matrix.\n",
    "\n",
    "\n",
    "## Input Format\n",
    "\n",
    "    The first argument A is a 2D array of integers (2D matrix).\n",
    "    \n",
    "## Output Format\n",
    "\n",
    "    Return the minimum element from the matrix.\n",
    "\n",
    "## Examples\n",
    "\n",
    "### Example 1:\n",
    "\n",
    "    Input: \n",
    "        A = [\n",
    "            [7, 2, 3, 4],\n",
    "            [5, 6, 1, 8],\n",
    "            [9, 2, 3, 4]\n",
    "          ]\n",
    "          \n",
    "    Output: 1\n",
    "\n",
    "    Explanation:\n",
    "    • Minimum element of the entire matrix A is 1.\n",
    "\n",
    "## Edge Case:\n",
    "\n",
    "    If the matrix is empty, return -1.\n",
    "\n",
    "## Expected Solution\n",
    "\n",
    "    Time Complexity: O(N)\n",
    "    Space Complexity: O(1)"
   ]
  },
  {
   "cell_type": "code",
   "execution_count": null,
   "metadata": {
    "vscode": {
     "languageId": "latex"
    }
   },
   "outputs": [],
   "source": [
    "\n",
    "| **Approach** | **Time Complexity (TC)** | **Space Complexity (SC)** | **Description** |\n",
    "| --- | --- | --- | --- |\n",
    "| **Brute Force (Nested Loop)** | O(N\\*M) | O(1) | Checks every element one by one. Simple but not optimized for large matrices. |\n",
    "| **Using `min()` + List Comprehension** | O(N\\*M) | O(N\\*M) | Flattens the matrix into a list and applies `min()`. Less efficient in space. |\n",
    "| **Divide and Conquer** | O(N\\*M) | O(log N) (recursive stack) | Splits the matrix into submatrices, but still needs to check all elements. |\n",
    "| **Binary Search on Sorted Matrix** | O(N log M) | O(1) | **Only works if rows/columns are sorted.** Faster but not general. |\n",
    "\n",
    "#### **Notes**\n",
    "\n",
    "1.  **Brute Force is optimal for unsorted matrices** since we **must** check every element.\n",
    "    \n",
    "2.  **If the matrix is sorted**, we can use **Binary Search** for better efficiency (but this is a special case).\n",
    "    \n",
    "3.  **Flattening the matrix** (e.g., `min([num for row in matrix for num in row])`) is concise but uses extra space.\n",
    "    \n",
    "\n",
    "### **Optimal Approach**\n",
    "\n",
    "For **general unsorted matrices**, the **Brute Force method is optimal** because:\n",
    "\n",
    "*   **No way to avoid checking all elements** (minimum could be anywhere).\n",
    "    \n",
    "*   **O(1) space** is the best we can do."
   ]
  },
  {
   "cell_type": "code",
   "execution_count": 1,
   "metadata": {},
   "outputs": [
    {
     "name": "stdout",
     "output_type": "stream",
     "text": [
      "1\n"
     ]
    }
   ],
   "source": [
    "def min_element_in_matrix(matrix):\n",
    "    n = len(matrix)\n",
    "    m = len(matrix[0])\n",
    "    min_element = float('inf')\n",
    "    for i in range(n):\n",
    "        for j in range(m):\n",
    "            if matrix[i][j] < min_element:\n",
    "                min_element = matrix[i][j]\n",
    "    return min_element\n",
    "\n",
    "\n",
    "matrix = [\n",
    "    [7, 2, 3, 4],\n",
    "    [5, 6, 1, 8],\n",
    "    [9, 2, 3, 4]\n",
    "]\n",
    "output = min_element_in_matrix(matrix)\n",
    "print(output)"
   ]
  }
 ],
 "metadata": {
  "kernelspec": {
   "display_name": ".venv-backend",
   "language": "python",
   "name": "python3"
  },
  "language_info": {
   "codemirror_mode": {
    "name": "ipython",
    "version": 3
   },
   "file_extension": ".py",
   "mimetype": "text/x-python",
   "name": "python",
   "nbconvert_exporter": "python",
   "pygments_lexer": "ipython3",
   "version": "3.12.1"
  }
 },
 "nbformat": 4,
 "nbformat_minor": 2
}
