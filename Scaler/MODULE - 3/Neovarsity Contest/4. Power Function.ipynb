{
 "cells": [
  {
   "cell_type": "code",
   "execution_count": null,
   "metadata": {},
   "outputs": [],
   "source": [
    "# Power Function\n",
    "\n",
    "## Problem Description\n",
    "\n",
    "    You are given two integers A and B. You have to find the value of A^B (A raised to the power B).\n",
    "\n",
    "    NOTE: The value of the answer is always less than or equal to 10^8.\n",
    "\n",
    "## Input Format\n",
    "\n",
    "    First parameter is an integer A.\n",
    "    Second parameter is an integer B.\n",
    "\n",
    "## Output Format\n",
    "\n",
    "    Return an integer representing the value of A^B.\n",
    "\n",
    "## Examples\n",
    "\n",
    "### Example 1:\n",
    "\n",
    "    Input: A = 2, B  = 3\n",
    "    Output: 8\n",
    "\n",
    "\n",
    "### Example 2:\n",
    "\n",
    "    Input: A = 1, B = 10\n",
    "    Output: 1\n",
    "\n",
    "\n",
    "## Edge Case:\n",
    "\n",
    "\n",
    "## Expected Solution\n",
    "\n",
    "    Time Complexity: O(N)\n",
    "    Space Complexity: O(N)"
   ]
  },
  {
   "cell_type": "code",
   "execution_count": 1,
   "metadata": {},
   "outputs": [
    {
     "name": "stdout",
     "output_type": "stream",
     "text": [
      "8\n",
      "1\n"
     ]
    }
   ],
   "source": [
    "def power(A, B):\n",
    "    return A ** B\n",
    "\n",
    "print(power(2, 3))\n",
    "print(power(1, 10))\n"
   ]
  },
  {
   "cell_type": "code",
   "execution_count": 2,
   "metadata": {},
   "outputs": [
    {
     "name": "stdout",
     "output_type": "stream",
     "text": [
      "8\n",
      "1\n"
     ]
    }
   ],
   "source": [
    "def power(A, B):\n",
    "    result = 1\n",
    "    while B > 0:\n",
    "        if B % 2 == 1:\n",
    "            result *= A\n",
    "        A *= A\n",
    "        B //= 2\n",
    "    return result\n",
    "\n",
    "\n",
    "print(power(2, 3))\n",
    "print(power(1, 10))"
   ]
  }
 ],
 "metadata": {
  "kernelspec": {
   "display_name": ".venv-backend",
   "language": "python",
   "name": "python3"
  },
  "language_info": {
   "codemirror_mode": {
    "name": "ipython",
    "version": 3
   },
   "file_extension": ".py",
   "mimetype": "text/x-python",
   "name": "python",
   "nbconvert_exporter": "python",
   "pygments_lexer": "ipython3",
   "version": "3.12.1"
  }
 },
 "nbformat": 4,
 "nbformat_minor": 2
}
