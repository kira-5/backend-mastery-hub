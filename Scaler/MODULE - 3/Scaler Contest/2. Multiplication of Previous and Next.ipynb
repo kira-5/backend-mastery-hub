{
 "cells": [
  {
   "cell_type": "code",
   "execution_count": null,
   "metadata": {
    "vscode": {
     "languageId": "latex"
    }
   },
   "outputs": [],
   "source": [
    "# Multiplication of Previous and Next\n",
    "\n",
    "## Problem Description\n",
    "\n",
    "    Given an array of integers A, update every element such that:\n",
    "    • First element: Replace with the product of the first and second elements.\n",
    "    • Last element: Replace with the product of the last and second last elements.\n",
    "    • All other elements: Replace with the product of their immediate previous and next elements.\n",
    "\n",
    "## Input Format\n",
    "\n",
    "    The input consists of a single argument:\n",
    "    • A: A list of integers.\n",
    "\n",
    "## Output Format\n",
    "\n",
    "    Return the updated array after performing the specified multiplications.\n",
    "\n",
    "## Examples\n",
    "\n",
    "### Example 1:\n",
    "\n",
    "    Input: A = [1, 2, 3, 4, 5]\n",
    "    Output: [2, 3, 8, 15, 20]\n",
    "\n",
    "    Explanation:\n",
    "    • First element:  1 × 2 = 2\n",
    "    • Second element: 1 × 3 = 3\n",
    "    • Third element:  2 × 4 = 8\n",
    "    • Fourth element: 3 × 5 = 15\n",
    "    • Last element:   4 × 5 = 20\n",
    "\n",
    "### Example 2:\n",
    "\n",
    "    Input: A = [5, 17, 100, 11]\n",
    "    Output: [85, 500, 187, 1100]\n",
    "\n",
    "    Explanation:\n",
    "    • First element:  5 × 17 = 85\n",
    "    • Second element: 5 × 100 = 500\n",
    "    • Third element:  17 × 11 = 187\n",
    "    • Last element:   100 × 11 = 1100\n",
    "\n",
    "## Edge Case:\n",
    "\n",
    "    If the array has only one element, return it unchanged.\n",
    "\n",
    "## Expected Solution\n",
    "\n",
    "    Time Complexity: O(N)\n",
    "    Space Complexity: O(1) (excluding input/output space)"
   ]
  },
  {
   "cell_type": "code",
   "execution_count": 3,
   "metadata": {},
   "outputs": [
    {
     "name": "stdout",
     "output_type": "stream",
     "text": [
      "0\n"
     ]
    }
   ],
   "source": [
    "def multiplication_of_previous_and_next(lst):\n",
    "    if len(lst) <= 1:\n",
    "        return [0]\n",
    "    elif len(lst) > 1:\n",
    "        final_lst = [lst[0] * lst[1]]\n",
    "        for i in range(1,len(lst)-1):\n",
    "            updated_number = lst[i-1] * lst[i+1]\n",
    "            final_lst.append(updated_number)\n",
    "        final_lst.append(lst[-1] * lst[-2])\n",
    "        return final_lst\n",
    "    else:\n",
    "        return 0\n",
    "\n",
    "A = [0]\n",
    "output = multiplication_of_previous_and_next(A)\n",
    "print(output)"
   ]
  }
 ],
 "metadata": {
  "kernelspec": {
   "display_name": ".venv-backend",
   "language": "python",
   "name": "python3"
  },
  "language_info": {
   "codemirror_mode": {
    "name": "ipython",
    "version": 3
   },
   "file_extension": ".py",
   "mimetype": "text/x-python",
   "name": "python",
   "nbconvert_exporter": "python",
   "pygments_lexer": "ipython3",
   "version": "3.12.1"
  }
 },
 "nbformat": 4,
 "nbformat_minor": 2
}
