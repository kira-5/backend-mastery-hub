{
 "cells": [
  {
   "cell_type": "code",
   "execution_count": null,
   "metadata": {
    "vscode": {
     "languageId": "latex"
    }
   },
   "outputs": [],
   "source": [
    "# Minimum Picks\n",
    "\n",
    "## Problem Description\n",
    "\n",
    "    Given an array of integers A of size N, compute the difference between:\n",
    "    • The maximum of all even numbers in A, and\n",
    "    • The minimum of all odd numbers in A.\n",
    "    \n",
    "    The array A contains at least one odd and one even number.\n",
    "\n",
    "## Input Format\n",
    "\n",
    "    The input consists of a single argument:\n",
    "    A: A list of integers.\n",
    "\n",
    "## Output Format\n",
    "\n",
    "    Return an integer:\n",
    "    (maximum even number in A) - (minimum odd number in A).\n",
    "\n",
    "## Examples\n",
    "\n",
    "### Example 1:\n",
    "\n",
    "    Input: A = [0, 2, 9]\n",
    "    Output: -7\n",
    "\n",
    "    Explanation:\n",
    "    • Maximum even number: 2\n",
    "    • Minimum odd number: 9\n",
    "    • Result: 2 - 9 = -7\n",
    "\n",
    "## Edge Case:\n",
    "\n",
    "    If all even numbers are negative, the maximum even number is the largest negative even number.\n",
    "    If there's only one even and one odd number, calculate the difference directly.\n",
    "\n",
    "## Expected Solution\n",
    "\n",
    "    Time Complexity: O(N)\n",
    "    Space Complexity: O(1) (excluding input/output space)"
   ]
  },
  {
   "cell_type": "code",
   "execution_count": 1,
   "metadata": {},
   "outputs": [
    {
     "name": "stdout",
     "output_type": "stream",
     "text": [
      "-7\n"
     ]
    }
   ],
   "source": [
    "def minimum_picks(lst):\n",
    "    max_even = float('-inf')\n",
    "    min_odd = float('inf')\n",
    "    for i in lst:\n",
    "        if i % 2 == 0:\n",
    "           max_even = max(max_even, i)\n",
    "        else:\n",
    "           min_odd = min(min_odd, i)\n",
    "    return max_even - min_odd\n",
    "\n",
    "\n",
    "A = [0, 2, 9]\n",
    "output = minimum_picks(A)\n",
    "print(output)"
   ]
  }
 ],
 "metadata": {
  "kernelspec": {
   "display_name": ".venv-backend",
   "language": "python",
   "name": "python3"
  },
  "language_info": {
   "codemirror_mode": {
    "name": "ipython",
    "version": 3
   },
   "file_extension": ".py",
   "mimetype": "text/x-python",
   "name": "python",
   "nbconvert_exporter": "python",
   "pygments_lexer": "ipython3",
   "version": "3.12.1"
  }
 },
 "nbformat": 4,
 "nbformat_minor": 2
}
