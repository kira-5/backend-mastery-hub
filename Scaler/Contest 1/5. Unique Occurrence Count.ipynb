{
 "cells": [
  {
   "cell_type": "code",
   "execution_count": null,
   "metadata": {
    "vscode": {
     "languageId": "latex"
    }
   },
   "outputs": [],
   "source": [
    "# Unique Occurrence Count\n",
    "\n",
    "## Problem Description\n",
    "\n",
    "    Given an integer array A of size N, return the count of elements which occur exactly once in the array.\n",
    "\n",
    "## Input Format\n",
    "\n",
    "    First and only argument is an array A.\n",
    "\n",
    "## Output Format\n",
    "\n",
    "    Return an integer — the count of elements that appear exactly once in the array.\n",
    "\n",
    "## Examples\n",
    "\n",
    "### Example 1:\n",
    "\n",
    "    Input: A = [1, 2, 3, 1, 2, 4, 5]\n",
    "    Output: 3\n",
    "\n",
    "    Explanation:\n",
    "    • Elements occurring only once in the array are: 3, 4, 5\n",
    "    • Total = 3\n",
    "\n",
    "### Example 2:\n",
    "\n",
    "    Input: A = [1, 2, 1, 2]\n",
    "    Output: 0\n",
    "\n",
    "    Explanation:\n",
    "    • All elements appear more than once → Count = 0\n",
    "\n",
    "## Edge Case:\n",
    "\n",
    "    If all elements are unique: return N.\n",
    "    If all elements are duplicates: return 0.\n",
    "\n",
    "## Expected Solution\n",
    "\n",
    "    Time Complexity: O(N)\n",
    "    Space Complexity: O(N)"
   ]
  },
  {
   "cell_type": "code",
   "execution_count": null,
   "metadata": {},
   "outputs": [],
   "source": [
    "def unique_occurrence_count(lst):\n",
    "    pass\n",
    "\n",
    "A = [1, 2, 3, 1, 2, 4, 5]\n",
    "output = unique_occurrence_count(A)\n",
    "print(output)"
   ]
  }
 ],
 "metadata": {
  "kernelspec": {
   "display_name": ".venv-backend",
   "language": "python",
   "name": "python3"
  },
  "language_info": {
   "codemirror_mode": {
    "name": "ipython",
    "version": 3
   },
   "file_extension": ".py",
   "mimetype": "text/x-python",
   "name": "python",
   "nbconvert_exporter": "python",
   "pygments_lexer": "ipython3",
   "version": "3.12.1"
  }
 },
 "nbformat": 4,
 "nbformat_minor": 2
}
