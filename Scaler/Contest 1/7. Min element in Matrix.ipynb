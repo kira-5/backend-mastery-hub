{
 "cells": [
  {
   "cell_type": "code",
   "execution_count": null,
   "metadata": {
    "vscode": {
     "languageId": "latex"
    }
   },
   "outputs": [],
   "source": [
    "# Min element in Matrix\n",
    "\n",
    "## Problem Description\n",
    "\n",
    "    Given a 2D Array A[][], return the minimum element from this matrix.\n",
    "\n",
    "\n",
    "## Input Format\n",
    "\n",
    "    The first argument A is a 2D array of integers (2D matrix).\n",
    "    \n",
    "## Output Format\n",
    "\n",
    "    Return the minimum element from the matrix.\n",
    "\n",
    "## Examples\n",
    "\n",
    "### Example 1:\n",
    "\n",
    "    Input: \n",
    "        A = [\n",
    "            [7, 2, 3, 4],\n",
    "            [5, 6, 1, 8],\n",
    "            [9, 2, 3, 4]\n",
    "          ]\n",
    "          \n",
    "    Output: 1\n",
    "\n",
    "    Explanation:\n",
    "    • Minimum element of the entire matrix A is 1.\n",
    "\n",
    "## Edge Case:\n",
    "\n",
    "    If the matrix is empty, return -1.\n",
    "\n",
    "## Expected Solution\n",
    "\n",
    "    Time Complexity: O(N)\n",
    "    Space Complexity: O(1)"
   ]
  },
  {
   "cell_type": "code",
   "execution_count": null,
   "metadata": {},
   "outputs": [],
   "source": [
    "def min_element_in_matrix(matrix):\n",
    "    pass\n",
    "\n",
    "matrix = [\n",
    "    [7, 2, 3, 4],\n",
    "    [5, 6, 1, 8],\n",
    "    [9, 2, 3, 4]\n",
    "]\n",
    "output = min_element_in_matrix(matrix)\n",
    "print(output)"
   ]
  }
 ],
 "metadata": {
  "kernelspec": {
   "display_name": ".venv-backend",
   "language": "python",
   "name": "python3"
  },
  "language_info": {
   "codemirror_mode": {
    "name": "ipython",
    "version": 3
   },
   "file_extension": ".py",
   "mimetype": "text/x-python",
   "name": "python",
   "nbconvert_exporter": "python",
   "pygments_lexer": "ipython3",
   "version": "3.12.1"
  }
 },
 "nbformat": 4,
 "nbformat_minor": 2
}
