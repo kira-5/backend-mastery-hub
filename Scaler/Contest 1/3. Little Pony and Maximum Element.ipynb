{
 "cells": [
  {
   "cell_type": "code",
   "execution_count": null,
   "metadata": {
    "vscode": {
     "languageId": "latex"
    }
   },
   "outputs": [],
   "source": [
    "# Little Ponny and Maximum Element\n",
    "\n",
    "## Problem Description\n",
    "\n",
    "    Little Ponny is given an array A of N integers. In a particular operation, he can set any element of the array equal to -1.\n",
    "    \n",
    "    He wants to find out the minimum number of operations required such that the maximum element of the resulting array is B.\n",
    "    If it is not possible, then return -1.\n",
    "\n",
    "## Input Format\n",
    "\n",
    "    The input consists of two arguments:\n",
    "    • A: An array of integers.\n",
    "    • B: An integer representing the target maximum value.\n",
    "\n",
    "## Output Format\n",
    "\n",
    "    Return an integer:\n",
    "    • The minimum number of operations required, or\n",
    "    • -1 if it is not possible.\n",
    "\n",
    "## Examples\n",
    "\n",
    "### Example 1:\n",
    "\n",
    "    Input: A = [1, 2, 3, 4, 5], B = 3\n",
    "    Output: 2\n",
    "\n",
    "    Explanation:\n",
    "    • We need to remove 4 and 5 to make 3 the biggest element.\n",
    "\n",
    "### Example 2:\n",
    "\n",
    "    Input: A = [1, 4, 2], B = 3\n",
    "    Output: -1\n",
    "\n",
    "    Explanation:\n",
    "    • As 3 doesn't exist in the array, the answer is -1.\n",
    "\n",
    "## Edge Case:\n",
    "\n",
    "    If the array has only one element and it is equal to B, return 0.\n",
    "    If the only element is not equal to B, return -1.\n",
    "\n",
    "## Expected Solution\n",
    "\n",
    "    Time Complexity: O(N)\n",
    "    Space Complexity: O(1) (excluding input/output space)"
   ]
  },
  {
   "cell_type": "code",
   "execution_count": 2,
   "metadata": {},
   "outputs": [
    {
     "name": "stdout",
     "output_type": "stream",
     "text": [
      "-7\n"
     ]
    }
   ],
   "source": [
    "\n",
    "# Using Two-Pass Traversal\n",
    "\n",
    "def solve(A):\n",
    "\n",
    "A =  [0, 2, 9]\n",
    "ans = solve(A)\n",
    "print(ans)"
   ]
  }
 ],
 "metadata": {
  "kernelspec": {
   "display_name": ".venv-backend",
   "language": "python",
   "name": "python3"
  },
  "language_info": {
   "codemirror_mode": {
    "name": "ipython",
    "version": 3
   },
   "file_extension": ".py",
   "mimetype": "text/x-python",
   "name": "python",
   "nbconvert_exporter": "python",
   "pygments_lexer": "ipython3",
   "version": "3.12.1"
  }
 },
 "nbformat": 4,
 "nbformat_minor": 2
}
