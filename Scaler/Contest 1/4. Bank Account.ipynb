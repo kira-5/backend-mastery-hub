{
 "cells": [
  {
   "cell_type": "code",
   "execution_count": null,
   "metadata": {
    "vscode": {
     "languageId": "latex"
    }
   },
   "outputs": [],
   "source": [
    "# Bank Account\n",
    "\n",
    "## Problem Description\n",
    "\n",
    "    Given a bank account with an initial balance N, perform an operation on it:\n",
    "    • ADD (credit): add Amount to the balance (Type = 1)\n",
    "    • SUBTRACT (debit): subtract Amount from the balance (Type = 2)\n",
    "    \n",
    "    If a SUBTRACT operation would result in a negative balance, print \"Insufficient Funds\" and skip the operation.\n",
    "    After the operation (or skip), print the current amount in the account or the error message.\n",
    "\n",
    "## Input Format\n",
    "\n",
    "    The input consists of two lines:\n",
    "    • N: An integer denoting the initial bank balance.\n",
    "    • Type Amount: Two space-separated integers representing the operation type and amount.\n",
    "\n",
    "## Output Format\n",
    "\n",
    "    Return a string:\n",
    "    • The balance after the operation, or\n",
    "    • \"Insufficient Funds\" if the operation could not be completed.\n",
    "\n",
    "## Examples\n",
    "\n",
    "### Example 1:\n",
    "\n",
    "    Input: N = 1000, Type = 1, Amount = 500\n",
    "    Output: 1500\n",
    "\n",
    "    Explanation:\n",
    "    • Initial balance: 1000\n",
    "    • Operation: ADD 500\n",
    "    • Result: 1500\n",
    "\n",
    "### Example 2:\n",
    "\n",
    "    Input: N = 1000, Type = 2, Amount = 200\n",
    "    Output: 800\n",
    "\n",
    "    Explanation:\n",
    "    • Initial balance: 1000\n",
    "    • Operation: SUBTRACT 200\n",
    "    • Result: 800\n",
    "\n",
    "### Example 3:\n",
    "\n",
    "    Input: N = 1000, Type = 2, Amount = 1500\n",
    "    Output: Insufficient Funds\n",
    "\n",
    "    Explanation:\n",
    "    • Initial balance: 1000\n",
    "    • Operation: SUBTRACT 1500\n",
    "    • Result: Operation not possible\n",
    "\n",
    "## Edge Case:\n",
    "\n",
    "    If the Amount is 0, the operation should still be valid:\n",
    "    • ADD 0: No change in balance.\n",
    "    • SUBTRACT 0: Still valid, balance remains unchanged.\n",
    "    \n",
    "    If the bank balance is 0, only an ADD operation is allowed. \n",
    "    Any SUBTRACT should return \"Insufficient Funds\".\n",
    "\n",
    "## Expected Solution\n",
    "\n",
    "    Time Complexity: O(1)\n",
    "    Space Complexity: O(1) - Constant space used (no extra storage beyond a few variables)."
   ]
  },
  {
   "cell_type": "code",
   "execution_count": 2,
   "metadata": {},
   "outputs": [
    {
     "name": "stdout",
     "output_type": "stream",
     "text": [
      "-7\n"
     ]
    }
   ],
   "source": [
    "\n",
    "# Using Two-Pass Traversal\n",
    "\n",
    "def solve(A):\n",
    "\n",
    "A =  [0, 2, 9]\n",
    "ans = solve(A)\n",
    "print(ans)"
   ]
  }
 ],
 "metadata": {
  "kernelspec": {
   "display_name": ".venv-backend",
   "language": "python",
   "name": "python3"
  },
  "language_info": {
   "codemirror_mode": {
    "name": "ipython",
    "version": 3
   },
   "file_extension": ".py",
   "mimetype": "text/x-python",
   "name": "python",
   "nbconvert_exporter": "python",
   "pygments_lexer": "ipython3",
   "version": "3.12.1"
  }
 },
 "nbformat": 4,
 "nbformat_minor": 2
}
