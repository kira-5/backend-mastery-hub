{
 "cells": [
  {
   "cell_type": "code",
   "execution_count": null,
   "metadata": {
    "vscode": {
     "languageId": "latex"
    }
   },
   "outputs": [],
   "source": [
    "# Minimum Picks\n",
    "\n",
    "## Problem Description\n",
    "\n",
    "    Given an array of integers A of size N, compute the difference between:\n",
    "    • The maximum of all even numbers in A, and\n",
    "    • The minimum of all odd numbers in A.\n",
    "    \n",
    "    The array A contains at least one odd and one even number.\n",
    "\n",
    "## Input Format\n",
    "\n",
    "    The input consists of a single argument:\n",
    "    A: A list of integers.\n",
    "\n",
    "## Output Format\n",
    "\n",
    "    Return an integer:\n",
    "    (maximum even number in A) - (minimum odd number in A).\n",
    "\n",
    "## Examples\n",
    "\n",
    "### Example 1:\n",
    "\n",
    "    Input: A = [0, 2, 9]\n",
    "    Output: -7\n",
    "\n",
    "    Explanation:\n",
    "    • Maximum even number: 2\n",
    "    • Minimum odd number: 9\n",
    "    • Result: 2 - 9 = -7\n",
    "\n",
    "## Edge Case:\n",
    "\n",
    "    If all even numbers are negative, the maximum even number is the largest negative even number.\n",
    "    If there's only one even and one odd number, calculate the difference directly.\n",
    "\n",
    "## Expected Solution\n",
    "\n",
    "    Time Complexity: O(N)\n",
    "    Space Complexity: O(1) (excluding input/output space)"
   ]
  },
  {
   "cell_type": "markdown",
   "metadata": {},
   "source": [
    "# Minimum Picks\n",
    "\n",
    "## Problem Description\n",
    "\n",
    "Given an array of integers A of size N, compute the difference between:\n",
    "* The maximum of all even numbers in A, and\n",
    "* The minimum of all odd numbers in A.\n",
    "\n",
    "The array A contains at least one odd and one even number.\n",
    "\n",
    "## Input Format\n",
    "\n",
    "The input consists of a single argument:\n",
    "* A: A list of integers.\n",
    "\n",
    "## Output Format\n",
    "\n",
    "Return an integer:\n",
    "(maximum even number in A) - (minimum odd number in A).\n",
    "\n",
    "## Examples\n",
    "\n",
    "### Example 1:\n",
    "\n",
    "**Input:** A = [0, 2, 9]\n",
    "**Output:** -7\n",
    "\n",
    "**Explanation:**\n",
    "* Maximum even number: 2\n",
    "* Minimum odd number: 9\n",
    "* Result: 2 - 9 = -7"
   ]
  },
  {
   "cell_type": "code",
   "execution_count": 2,
   "metadata": {},
   "outputs": [
    {
     "name": "stdout",
     "output_type": "stream",
     "text": [
      "-7\n"
     ]
    }
   ],
   "source": [
    "\n",
    "# Using Two-Pass Traversal\n",
    "\n",
    "def solve(A):\n",
    "    even_lst = [i for i in A if i % 2 == 0]\n",
    "    odd_lst = [i for i in A if i % 2 != 0]\n",
    "    max_even = max(even_lst)\n",
    "    min_odd = min(odd_lst)\n",
    "    ans = max_even - min_odd\n",
    "    return ans\n",
    "\n",
    "A =  [0, 2, 9]\n",
    "ans = solve(A)\n",
    "print(ans)"
   ]
  },
  {
   "cell_type": "code",
   "execution_count": 1,
   "metadata": {},
   "outputs": [
    {
     "name": "stdout",
     "output_type": "stream",
     "text": [
      "-7\n"
     ]
    }
   ],
   "source": [
    "# Using Single-Pass Traversal\n",
    "\n",
    "def solve(A):\n",
    "    max_even = float('-inf')\n",
    "    min_odd = float('inf')\n",
    "    \n",
    "    for num in A:\n",
    "        if num % 2 == 0:  # Even number\n",
    "            if num > max_even:\n",
    "                max_even = num\n",
    "        else:  # Odd number\n",
    "            if num < min_odd:\n",
    "                min_odd = num\n",
    "                \n",
    "    return max_even - min_odd\n",
    "\n",
    "A =  [0, 2, 9]\n",
    "ans = solve(A)\n",
    "print(ans)"
   ]
  }
 ],
 "metadata": {
  "kernelspec": {
   "display_name": ".venv-backend",
   "language": "python",
   "name": "python3"
  },
  "language_info": {
   "codemirror_mode": {
    "name": "ipython",
    "version": 3
   },
   "file_extension": ".py",
   "mimetype": "text/x-python",
   "name": "python",
   "nbconvert_exporter": "python",
   "pygments_lexer": "ipython3",
   "version": "3.12.1"
  }
 },
 "nbformat": 4,
 "nbformat_minor": 2
}
