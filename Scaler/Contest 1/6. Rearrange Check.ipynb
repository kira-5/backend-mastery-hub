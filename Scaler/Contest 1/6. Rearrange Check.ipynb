{
 "cells": [
  {
   "cell_type": "code",
   "execution_count": null,
   "metadata": {
    "vscode": {
     "languageId": "latex"
    }
   },
   "outputs": [],
   "source": [
    "# Rearrange Check\n",
    "\n",
    "## Problem Description\n",
    "\n",
    "    Given two strings A and B consisting of lowercase characters, check if it is possible to rearrange characters in A to form string B.\n",
    "\n",
    "\n",
    "## Input Format\n",
    "\n",
    "    First argument is string A\n",
    "    Second argument is string B\n",
    "    \n",
    "## Output Format\n",
    "\n",
    "    Return string \"True\" if it is possible\n",
    "    Otherwise, return string \"False\"\n",
    "\n",
    "## Examples\n",
    "\n",
    "### Example 1:\n",
    "\n",
    "    Input: A = \"hello\", B = \"llohe\"\n",
    "    Output: \"True\"\n",
    "\n",
    "    Explanation:\n",
    "    • We can rearrange string A to become B, so we return \"True\".\n",
    "\n",
    "### Example 2:\n",
    "\n",
    "    Input: A = \"abc\", B = \"bcd\"\n",
    "    Output: \"False\"\n",
    "\n",
    "    Explanation:\n",
    "    • It is impossible to rearrange string A to become B, so we return \"False\".\n",
    "\n",
    "## Edge Case:\n",
    "\n",
    "\n",
    "## Expected Solution\n",
    "\n",
    "    Time Complexity: O(N)\n",
    "    Space Complexity: O(1)"
   ]
  },
  {
   "cell_type": "code",
   "execution_count": null,
   "metadata": {},
   "outputs": [],
   "source": [
    "def rearrange_check(A, B):\n",
    "    pass\n",
    "\n",
    "A = \"hello\"\n",
    "B = \"llohe\"\n",
    "output = rearrange_check(A, B)\n",
    "print(output)"
   ]
  }
 ],
 "metadata": {
  "kernelspec": {
   "display_name": ".venv-backend",
   "language": "python",
   "name": "python3"
  },
  "language_info": {
   "codemirror_mode": {
    "name": "ipython",
    "version": 3
   },
   "file_extension": ".py",
   "mimetype": "text/x-python",
   "name": "python",
   "nbconvert_exporter": "python",
   "pygments_lexer": "ipython3",
   "version": "3.12.1"
  }
 },
 "nbformat": 4,
 "nbformat_minor": 2
}
