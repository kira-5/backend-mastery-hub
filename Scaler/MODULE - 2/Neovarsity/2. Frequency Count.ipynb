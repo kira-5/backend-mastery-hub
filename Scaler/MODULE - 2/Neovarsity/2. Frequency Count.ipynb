{
 "cells": [
  {
   "cell_type": "code",
   "execution_count": null,
   "metadata": {
    "vscode": {
     "languageId": "latex"
    }
   },
   "outputs": [],
   "source": [
    "# Frequency Count\n",
    "\n",
    "## Problem Description\n",
    "\n",
    "    You are given an integer array A. You have to return an integer array of the same size, where the ith element is the frequency count of A[i] in array A.\n",
    "    \n",
    "    When comparing two elements of the ArrayList (in Java), make sure to use .equals() method for accurate comparison.\n",
    "    E.g. To compare ith index with jth index use:\n",
    "        A.get(i).equals(A.get(j))\n",
    "\n",
    "## Input Format\n",
    "\n",
    "    First argument is an array of integers representing array A.\n",
    "\n",
    "## Output Format\n",
    "\n",
    "    You have to return an array of integers as per the question.\n",
    "\n",
    "## Examples\n",
    "\n",
    "### Example 1:\n",
    "\n",
    "    Input: A = [1, 2, 5, 1, 5, 1]\n",
    "    Output: [3, 1, 2, 3, 2, 3]\n",
    "\n",
    "    Explanation:\n",
    "    • 1 appears 3 times\n",
    "    • 2 appears once\n",
    "    • 5 appears 2 times\n",
    "    So the output for each index corresponds to how many times that number appears in the array.\n",
    "        \n",
    "\n",
    "## Edge Case:\n",
    "\n",
    "\n",
    "## Expected Solution\n",
    "\n",
    "    Time Complexity: O(N)\n",
    "    Space Complexity: O(N)"
   ]
  },
  {
   "cell_type": "code",
   "execution_count": 1,
   "metadata": {},
   "outputs": [
    {
     "name": "stdout",
     "output_type": "stream",
     "text": [
      "[3, 1, 2, 3, 2, 3]\n",
      "[3, 1, 2, 3, 2, 3]\n",
      "[3, 1, 2, 3, 2, 3]\n"
     ]
    }
   ],
   "source": [
    "def frequency_count(A):\n",
    "    return [A.count(i) for i in A]\n",
    "\n",
    "print(frequency_count([1, 2, 5, 1, 5, 1]))\n",
    "print(frequency_count([1, 2, 5, 1, 5, 1]))\n",
    "print(frequency_count([1, 2, 5, 1, 5, 1]))\n"
   ]
  },
  {
   "cell_type": "code",
   "execution_count": 2,
   "metadata": {},
   "outputs": [
    {
     "name": "stdout",
     "output_type": "stream",
     "text": [
      "[3, 1, 2, 3, 2, 3]\n",
      "[3, 1, 2, 3, 2, 3]\n",
      "[3, 1, 2, 3, 2, 3]\n"
     ]
    }
   ],
   "source": [
    "def frequency_count(A):\n",
    "    hash_map = {}\n",
    "    for i in A:\n",
    "        if i in hash_map:\n",
    "            hash_map[i] += 1\n",
    "        else:\n",
    "            hash_map[i] = 1\n",
    "            \n",
    "    return [hash_map[i] for i in A]\n",
    "\n",
    "print(frequency_count([1, 2, 5, 1, 5, 1]))\n",
    "print(frequency_count([1, 2, 5, 1, 5, 1]))\n",
    "print(frequency_count([1, 2, 5, 1, 5, 1]))\n"
   ]
  }
 ],
 "metadata": {
  "kernelspec": {
   "display_name": ".venv-backend",
   "language": "python",
   "name": "python3"
  },
  "language_info": {
   "codemirror_mode": {
    "name": "ipython",
    "version": 3
   },
   "file_extension": ".py",
   "mimetype": "text/x-python",
   "name": "python",
   "nbconvert_exporter": "python",
   "pygments_lexer": "ipython3",
   "version": "3.12.1"
  }
 },
 "nbformat": 4,
 "nbformat_minor": 2
}
