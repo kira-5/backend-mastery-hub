{
 "cells": [
  {
   "cell_type": "code",
   "execution_count": null,
   "metadata": {
    "vscode": {
     "languageId": "plaintext"
    }
   },
   "outputs": [],
   "source": [
    "# Sum Of [Max - Min] In Every Row\n",
    "\n",
    "## Problem Description\n",
    "\n",
    "    Given a 2D Matrix A, find max and min from every row and return the sum of [Max - Min] from every row of A.\n",
    "\n",
    "## Input Format\n",
    "\n",
    "    First argument is a 2D integer array A.\n",
    "\n",
    "## Output Format\n",
    "\n",
    "    Return an integer.\n",
    "\n",
    "## Examples\n",
    "\n",
    "### Example 1:\n",
    "\n",
    "    Input: A = [[10, 20, 30], [15, 25, 35], [27, 17, 22]]\n",
    "    Output: 50\n",
    "\n",
    "    Explanation:\n",
    "    • 0th row: max - min = 30 - 10 = 20  \n",
    "    • 1st row: max - min = 35 - 15 = 20  \n",
    "    • 2nd row: max - min = 27 - 17 = 10  \n",
    "    • Sum = 20 + 20 + 10 = 50\n",
    "    \n",
    "### Example 2:\n",
    "\n",
    "    Input: A = [[7, 8, 3, 2], [9, 5, 2, 1], [8, 1, 4, 0]]\n",
    "    Output: 22\n",
    "\n",
    "    Explanation:\n",
    "    • 0th row: max - min = 8 - 2 = 6  \n",
    "    • 1st row: max - min = 9 - 1 = 8  \n",
    "    • 2nd row: max - min = 8 - 0 = 8  \n",
    "    • Sum = 6 + 8 + 8 = 22\n",
    "\n",
    "\n",
    "        \n",
    "\n",
    "## Edge Case:\n",
    "\n",
    "\n",
    "## Expected Solution\n",
    "\n",
    "    Time Complexity: O(N)\n",
    "    Space Complexity: O(N)"
   ]
  }
 ],
 "metadata": {
  "language_info": {
   "name": "python"
  }
 },
 "nbformat": 4,
 "nbformat_minor": 2
}
