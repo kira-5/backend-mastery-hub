{
 "cells": [
  {
   "cell_type": "code",
   "execution_count": null,
   "metadata": {
    "vscode": {
     "languageId": "plaintext"
    }
   },
   "outputs": [],
   "source": [
    "# ASCII Sum\n",
    "\n",
    "## Problem Description\n",
    "\n",
    "    Given a string A of length N, find the sum of ASCII values of all A[i] for 0 <= i <= N-1.\n",
    "\n",
    "## Input Format\n",
    "\n",
    "    Only argument is a string A.\n",
    "\n",
    "## Output Format\n",
    "\n",
    "    Return an integer denoting the sum.\n",
    "\n",
    "## Examples\n",
    "\n",
    "### Example 1:\n",
    "\n",
    "    Input: A = \"abc\"\n",
    "    Output: 294\n",
    "\n",
    "    Explanation:\n",
    "    • Sum of ASCII values 97, 98, 99 for 'a', 'b', 'c' respectively is 294.\n",
    "\n",
    "### Example 2:\n",
    "\n",
    "    Input: A = \"azx\"\n",
    "    Output: 339\n",
    "\n",
    "    Explanation:\n",
    "    • Sum of ASCII values 97, 122, 120 for 'a', 'z', 'x' respectively is 339.\n",
    "\n",
    "## Edge Case:\n",
    "\n",
    "\n",
    "## Expected Solution\n",
    "\n",
    "    Time Complexity: O(N)\n",
    "    Space Complexity: O(N)"
   ]
  }
 ],
 "metadata": {
  "language_info": {
   "name": "python"
  }
 },
 "nbformat": 4,
 "nbformat_minor": 2
}
