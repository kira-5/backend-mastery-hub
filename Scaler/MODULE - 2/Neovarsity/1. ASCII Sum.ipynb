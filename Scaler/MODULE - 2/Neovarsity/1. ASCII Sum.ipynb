{
 "cells": [
  {
   "cell_type": "code",
   "execution_count": null,
   "metadata": {},
   "outputs": [],
   "source": [
    "# ASCII Sum\n",
    "\n",
    "## Problem Description\n",
    "\n",
    "    Given a string A of length N, find the sum of ASCII values of all A[i] for 0 <= i <= N-1.\n",
    "\n",
    "## Input Format\n",
    "\n",
    "    Only argument is a string A.\n",
    "\n",
    "## Output Format\n",
    "\n",
    "    Return an integer denoting the sum.\n",
    "\n",
    "## Examples\n",
    "\n",
    "### Example 1:\n",
    "\n",
    "    Input: A = \"abc\"\n",
    "    Output: 294\n",
    "\n",
    "    Explanation:\n",
    "    • Sum of ASCII values 97, 98, 99 for 'a', 'b', 'c' respectively is 294.\n",
    "\n",
    "### Example 2:\n",
    "\n",
    "    Input: A = \"azx\"\n",
    "    Output: 339\n",
    "\n",
    "    Explanation:\n",
    "    • Sum of ASCII values 97, 122, 120 for 'a', 'z', 'x' respectively is 339.\n",
    "\n",
    "## Edge Case:\n",
    "\n",
    "\n",
    "## Expected Solution\n",
    "\n",
    "    Time Complexity: O(N)\n",
    "    Space Complexity: O(N)"
   ]
  },
  {
   "cell_type": "code",
   "execution_count": 1,
   "metadata": {},
   "outputs": [
    {
     "name": "stdout",
     "output_type": "stream",
     "text": [
      "294\n",
      "339\n"
     ]
    }
   ],
   "source": [
    "def ascii_sum(A):\n",
    "    return sum(ord(c) for c in A)\n",
    "\n",
    "A = \"abc\"\n",
    "output = ascii_sum(A)\n",
    "print(output)\n",
    "\n",
    "A = \"azx\"\n",
    "output = ascii_sum(A)\n",
    "print(output)\n"
   ]
  }
 ],
 "metadata": {
  "kernelspec": {
   "display_name": ".venv-backend",
   "language": "python",
   "name": "python3"
  },
  "language_info": {
   "codemirror_mode": {
    "name": "ipython",
    "version": 3
   },
   "file_extension": ".py",
   "mimetype": "text/x-python",
   "name": "python",
   "nbconvert_exporter": "python",
   "pygments_lexer": "ipython3",
   "version": "3.12.1"
  }
 },
 "nbformat": 4,
 "nbformat_minor": 2
}
