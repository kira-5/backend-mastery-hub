{
 "cells": [
  {
   "cell_type": "code",
   "execution_count": null,
   "metadata": {
    "vscode": {
     "languageId": "latex"
    }
   },
   "outputs": [],
   "source": [
    "# Max Product Pair\n",
    "\n",
    "## Problem Description\n",
    "\n",
    "    Given an array A of size N, return the maximum possible product from any pair (A[i], A[j]) where i ≠ j of the array.\n",
    "\n",
    "## Input Format\n",
    "\n",
    "    First and only argument is an integer array A.\n",
    "\n",
    "## Output Format\n",
    "\n",
    "    Return an integer denoting the maximum possible product.\n",
    "\n",
    "## Examples\n",
    "\n",
    "### Example 1:\n",
    "\n",
    "    Input: A = [7, 8, 2, 1, 3, 4, 5, 9]\n",
    "    Output: 72\n",
    "\n",
    "    Explanation:\n",
    "    • For input A = [7, 8, 2, 1, 3, 4, 5, 9],\n",
    "    • we can see that the maximum product is achieved by multiplying 8 and 9, which is equal to 72.\n",
    "    \n",
    "### Example 2:\n",
    "\n",
    "    Input: A = [2, 1, 7, 4, 5, -6, -3, -1, -8]\n",
    "    Output: 48\n",
    "\n",
    "    Explanation:\n",
    "    • For input A = [2, 1, 7, 4, 5, -6, -3, -1, -8],\n",
    "    • we can see that the maximum product is achieved by multiplying -6 and -8, which is equal to 48.\n",
    "\n",
    "\n",
    "        \n",
    "\n",
    "## Edge Case:\n",
    "\n",
    "\n",
    "## Expected Solution\n",
    "\n",
    "    Time Complexity: O(N)\n",
    "    Space Complexity: O(N)"
   ]
  },
  {
   "cell_type": "code",
   "execution_count": null,
   "metadata": {
    "vscode": {
     "languageId": "latex"
    }
   },
   "outputs": [],
   "source": [
    "Here are other possible approaches to solve this problem, along with their time and space complexities:\n",
    "\n",
    "| **Approach** | **Time Complexity (TC)** | **Space Complexity (SC)** | **Description** |\n",
    "| --- | --- | --- | --- |\n",
    "| **Brute Force (Nested Loop)** | O(N²) | O(1) | Checks every pair one by one. Simple but not optimized for large arrays. |\n",
    "| **Sorting** | O(N log N) | O(1) or O(N) | Sorts the array and considers the product of the two largest or two smallest (for negative numbers). |\n",
    "| **Single Pass (Track Max and Min)** | O(N) | O(1) | Tracks the two largest and two smallest numbers in a single pass through the array. |\n",
    "\n",
    "#### **Notes**\n",
    "\n",
    "1.  **Brute Force** is simple but inefficient for large arrays.\n",
    "    \n",
    "2.  **Sorting** improves time complexity to `O(N log N)` and is easy to implement.\n",
    "    \n",
    "3.  **Single Pass** is the most efficient with `O(N)` time and `O(1)` space, but requires careful tracking of values.\n",
    "    \n",
    "\n",
    "* * *\n",
    "\n",
    "### **Optimal Approach (Single Pass)**\n",
    "\n",
    "The optimal approach involves traversing the array once to keep track of the two largest and two smallest numbers, then comparing the products of these pairs.\n",
    "\n",
    "#### **Approach**\n",
    "\n",
    "1.  Initialize variables to store the two largest (`max1`, `max2`) and two smallest (`min1`, `min2`) numbers.\n",
    "    \n",
    "2.  Iterate through the array:\n",
    "    \n",
    "    *   Update `max1` and `max2` if the current number is larger than them.\n",
    "        \n",
    "    *   Update `min1` and `min2` if the current number is smaller than them.\n",
    "        \n",
    "3.  The maximum product will be the maximum of `max1 * max2` and `min1 * min2`.\n",
    "    "
   ]
  },
  {
   "cell_type": "code",
   "execution_count": 1,
   "metadata": {},
   "outputs": [
    {
     "name": "stdout",
     "output_type": "stream",
     "text": [
      "72\n",
      "48\n"
     ]
    }
   ],
   "source": [
    "# Brute Force\n",
    "def max_product_pair(A):\n",
    "    max_product = float('-inf')\n",
    "    n = len(A)\n",
    "    for i in range(n):\n",
    "        for j in range(i + 1, n):\n",
    "            product = A[i] * A[j]\n",
    "            if product > max_product:\n",
    "                max_product = product\n",
    "    return max_product\n",
    "    \n",
    "A = [7, 8, 2, 1, 3, 4, 5, 9]\n",
    "output = max_product_pair(A)\n",
    "print(output)\n",
    "\n",
    "A = [2, 1, 7, 4, 5, -6, -3, -1, -8]\n",
    "output = max_product_pair(A)\n",
    "print(output)"
   ]
  },
  {
   "cell_type": "code",
   "execution_count": null,
   "metadata": {},
   "outputs": [],
   "source": [
    "# Single Pass\n",
    "def max_product_pair(A):\n",
    "    if len(A) < 2:\n",
    "        return -1  # Edge case: Not enough elements for a pair\n",
    "    \n",
    "    max1 = max2 = float('-inf')\n",
    "    min1 = min2 = float('inf')\n",
    "    \n",
    "    for num in A:\n",
    "        if num > max1:\n",
    "            max2 = max1\n",
    "            max1 = num\n",
    "        elif num > max2:\n",
    "            max2 = num\n",
    "        \n",
    "        if num < min1:\n",
    "            min2 = min1\n",
    "            min1 = num\n",
    "        elif num < min2:\n",
    "            min2 = num\n",
    "    \n",
    "    return max(max1 * max2, min1 * min2)\n",
    "    \n",
    "A = [7, 8, 2, 1, 3, 4, 5, 9]\n",
    "output = max_product_pair(A)\n",
    "print(output)\n",
    "\n",
    "A = [2, 1, 7, 4, 5, -6, -3, -1, -8]\n",
    "output = max_product_pair(A)\n",
    "print(output)"
   ]
  }
 ],
 "metadata": {
  "kernelspec": {
   "display_name": ".venv-backend",
   "language": "python",
   "name": "python3"
  },
  "language_info": {
   "codemirror_mode": {
    "name": "ipython",
    "version": 3
   },
   "file_extension": ".py",
   "mimetype": "text/x-python",
   "name": "python",
   "nbconvert_exporter": "python",
   "pygments_lexer": "ipython3",
   "version": "3.12.1"
  }
 },
 "nbformat": 4,
 "nbformat_minor": 2
}
