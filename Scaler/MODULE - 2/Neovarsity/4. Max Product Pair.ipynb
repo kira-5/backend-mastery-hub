{
 "cells": [
  {
   "cell_type": "code",
   "execution_count": null,
   "metadata": {
    "vscode": {
     "languageId": "plaintext"
    }
   },
   "outputs": [],
   "source": [
    "# Max Product Pair\n",
    "\n",
    "## Problem Description\n",
    "\n",
    "    Given an array A of size N, return the maximum possible product from any pair (A[i], A[j]) where i ≠ j of the array.\n",
    "\n",
    "## Input Format\n",
    "\n",
    "    First and only argument is an integer array A.\n",
    "\n",
    "## Output Format\n",
    "\n",
    "    Return an integer denoting the maximum possible product.\n",
    "\n",
    "## Examples\n",
    "\n",
    "### Example 1:\n",
    "\n",
    "    Input: A = [7, 8, 2, 1, 3, 4, 5, 9]\n",
    "    Output: 72\n",
    "\n",
    "    Explanation:\n",
    "    • For input A = [7, 8, 2, 1, 3, 4, 5, 9],\n",
    "    • we can see that the maximum product is achieved by multiplying 8 and 9, which is equal to 72.\n",
    "    \n",
    "### Example 2:\n",
    "\n",
    "    Input: A = [2, 1, 7, 4, 5, -6, -3, -1, -8]\n",
    "    Output: 48\n",
    "\n",
    "    Explanation:\n",
    "    • For input A = [2, 1, 7, 4, 5, -6, -3, -1, -8],\n",
    "    • we can see that the maximum product is achieved by multiplying -6 and -8, which is equal to 48.\n",
    "\n",
    "\n",
    "        \n",
    "\n",
    "## Edge Case:\n",
    "\n",
    "\n",
    "## Expected Solution\n",
    "\n",
    "    Time Complexity: O(N)\n",
    "    Space Complexity: O(N)"
   ]
  }
 ],
 "metadata": {
  "language_info": {
   "name": "python"
  }
 },
 "nbformat": 4,
 "nbformat_minor": 2
}
