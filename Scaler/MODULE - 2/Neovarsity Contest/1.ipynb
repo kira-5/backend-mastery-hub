{
 "cells": [
  {
   "cell_type": "code",
   "execution_count": null,
   "metadata": {},
   "outputs": [],
   "source": [
    "# Local height for new building"
   ]
  },
  {
   "cell_type": "code",
   "execution_count": null,
   "metadata": {},
   "outputs": [],
   "source": [
    "def main():\n",
    "    # YOUR CODE GOES HERE\n",
    "    # Please take input and print output to standard input/output (stdin/stdout)\n",
    "    # E.g. 'input()/raw_input()' for input & 'print' for output\n",
    "    \n",
    "    zone = int(input())\n",
    "    \n",
    "    zones_height_mapping = {\n",
    "        (1, 5): 30,\n",
    "        (6, 10): 25,\n",
    "        (11, 15): 20,\n",
    "        (16, 20): 10\n",
    "    }\n",
    "    \n",
    "    # Check if zone falls in any valid range\n",
    "    for (start, end), height in zones_height_mapping.items():\n",
    "        if start <= zone <= end:\n",
    "            print(f\"Maximum height possible for building is {height} meters\")\n",
    "            break\n",
    "    else:\n",
    "        print(\"Here construction is prohibited\")\n",
    "\n",
    "if __name__ == '__main__':\n",
    "    main()"
   ]
  }
 ],
 "metadata": {
  "language_info": {
   "name": "python"
  }
 },
 "nbformat": 4,
 "nbformat_minor": 2
}
